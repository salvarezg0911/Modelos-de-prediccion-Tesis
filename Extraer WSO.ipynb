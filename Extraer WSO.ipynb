{
 "cells": [
  {
   "cell_type": "code",
   "execution_count": 5,
   "metadata": {},
   "outputs": [
    {
     "name": "stdout",
     "output_type": "stream",
     "text": [
      "Proceso completado. Datos guardados en C:\\Users\\Stefania Alvarez\\Documents\\Universidad\\2025-1\\Tesis Final\\Modelos de prediccion\\PruebaDatos.xlsx\n"
     ]
    }
   ],
   "source": [
    "import os\n",
    "import pandas as pd\n",
    "\n",
    "# Directorio donde están los archivos Excel\n",
    "input_dir = r\"C:\\Users\\Stefania Alvarez\\Documents\\Universidad\\2025-1\\Tesis Final\\Modelos de prediccion\"\n",
    "output_path = os.path.join(input_dir, \"PruebaDatos.xlsx\")\n",
    "\n",
    "# Listar todos los archivos que comienzan con 'Resultados_LINTUL2_' y terminan en '.xlsx'\n",
    "excel_files = [f for f in os.listdir(input_dir) if f.startswith(\"Resultados_LINTUL2_\") and f.endswith(\".xlsx\")]\n",
    "\n",
    "# Inicializar un escritor de Excel\n",
    "with pd.ExcelWriter(output_path, engine='openpyxl') as writer:\n",
    "    for file in excel_files:\n",
    "        file_path = os.path.join(input_dir, file)\n",
    "        \n",
    "        # Leer todas las hojas del archivo actual\n",
    "        all_sheets = pd.read_excel(file_path, sheet_name=None)\n",
    "        \n",
    "        # Inicializar un DataFrame base con la columna 'time'\n",
    "        merged_df = pd.DataFrame()\n",
    "\n",
    "        for sheet_name, df in all_sheets.items():\n",
    "            if 'time' in df.columns and 'WSO' in df.columns:\n",
    "                temp_df = df[['time', 'WSO']].copy()\n",
    "                temp_df = temp_df.rename(columns={'WSO': sheet_name})  # renombrar 'WSO' como nombre de la hoja\n",
    "\n",
    "                if merged_df.empty:\n",
    "                    merged_df = temp_df\n",
    "                else:\n",
    "                    merged_df = pd.merge(merged_df, temp_df, on='time', how='outer')  # juntar por 'time'\n",
    "\n",
    "        # Guardar el resultado en una hoja con el nombre del archivo procesado\n",
    "        sheet_name = file.replace(\"Resultados_LINTUL2_\", \"\").replace(\".xlsx\", \"\")\n",
    "        merged_df.to_excel(writer, sheet_name=sheet_name[:31], index=False)  # Limitar nombre a 31 caracteres\n",
    "\n",
    "print(f\"Proceso completado. Datos guardados en {output_path}\")\n",
    "\n",
    "\n",
    "\n"
   ]
  }
 ],
 "metadata": {
  "kernelspec": {
   "display_name": "Python 3",
   "language": "python",
   "name": "python3"
  },
  "language_info": {
   "codemirror_mode": {
    "name": "ipython",
    "version": 3
   },
   "file_extension": ".py",
   "mimetype": "text/x-python",
   "name": "python",
   "nbconvert_exporter": "python",
   "pygments_lexer": "ipython3",
   "version": "3.11.9"
  }
 },
 "nbformat": 4,
 "nbformat_minor": 2
}
