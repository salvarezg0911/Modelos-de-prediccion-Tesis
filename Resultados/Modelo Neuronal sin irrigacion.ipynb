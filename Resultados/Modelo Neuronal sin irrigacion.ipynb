{
 "cells": [
  {
   "cell_type": "code",
   "execution_count": 30,
   "id": "c9b69a7b",
   "metadata": {},
   "outputs": [],
   "source": [
    "# Importar Librerías\n",
    "import numpy as np\n",
    "import pandas as pd\n",
    "import tensorflow as tf\n",
    "import matplotlib.pyplot as plt\n",
    "from tensorflow.keras.utils import plot_model"
   ]
  },
  {
   "cell_type": "code",
   "execution_count": 31,
   "id": "53a9e885",
   "metadata": {},
   "outputs": [],
   "source": [
    "#Cargar Archivo\n",
    "df1 = pd.read_excel(\"Datos sin irrigacion.xlsx\", sheet_name = \"Resumen_Cordoba1\")\n",
    "df2 = pd.read_excel(\"Datos sin irrigacion.xlsx\", sheet_name = \"Resumen_Guajira2\")\n",
    "df3 = pd.read_excel(\"Datos sin irrigacion.xlsx\", sheet_name = \"Resumen_Guajira3\")\n",
    "df4 = pd.read_excel(\"Datos sin irrigacion.xlsx\", sheet_name = \"Resumen_Guajira4\")\n",
    "df5 = pd.read_excel(\"Datos sin irrigacion.xlsx\", sheet_name = \"Resumen_Antioquia5\")\n",
    "df6 = pd.read_excel(\"Datos sin irrigacion.xlsx\", sheet_name = \"Resumen_Antioquia6\")\n",
    "df7 = pd.read_excel(\"Datos sin irrigacion.xlsx\", sheet_name = \"Resumen_Atlantico7\")\n",
    "df8 = pd.read_excel(\"Datos sin irrigacion.xlsx\", sheet_name = \"Resumen_Atlantico8\")\n",
    "df9 = pd.read_excel(\"Datos sin irrigacion.xlsx\", sheet_name = \"Resumen_Magdalena9\")\n",
    "df10 = pd.read_excel(\"Datos sin irrigacion.xlsx\", sheet_name = \"Resumen_Magdalena10\")\n",
    "df11 = pd.read_excel(\"Datos sin irrigacion.xlsx\", sheet_name = \"Resumen_Cesar11\")\n",
    "df12 = pd.read_excel(\"Datos sin irrigacion.xlsx\", sheet_name = \"Resumen_Cesar12\")\n",
    "df13 = pd.read_excel(\"Datos sin irrigacion.xlsx\", sheet_name = \"Resumen_Bolivar13\")\n",
    "df14 = pd.read_excel(\"Datos sin irrigacion.xlsx\", sheet_name = \"Resumen_Bolivar14\")\n",
    "df15 = pd.read_excel(\"Datos sin irrigacion.xlsx\", sheet_name = \"Resumen_Choco15\")\n",
    "\n",
    "# Lista Df\n",
    "dfs = [df1, df2, df3, df4, df5, df6, df7, df8, df9, df10, df11, df12, df13, df14, df15]\n",
    "\n",
    "# Unirlos en uno solo\n",
    "df = pd.concat(dfs, ignore_index=True)"
   ]
  },
  {
   "cell_type": "code",
   "execution_count": 32,
   "id": "58b3f1d2",
   "metadata": {},
   "outputs": [
    {
     "data": {
      "text/html": [
       "<div>\n",
       "<style scoped>\n",
       "    .dataframe tbody tr th:only-of-type {\n",
       "        vertical-align: middle;\n",
       "    }\n",
       "\n",
       "    .dataframe tbody tr th {\n",
       "        vertical-align: top;\n",
       "    }\n",
       "\n",
       "    .dataframe thead th {\n",
       "        text-align: right;\n",
       "    }\n",
       "</style>\n",
       "<table border=\"1\" class=\"dataframe\">\n",
       "  <thead>\n",
       "    <tr style=\"text-align: right;\">\n",
       "      <th></th>\n",
       "      <th>Hoja</th>\n",
       "      <th>Station Number</th>\n",
       "      <th>Año</th>\n",
       "      <th>Día</th>\n",
       "      <th>Irradiacion</th>\n",
       "      <th>Min Temp</th>\n",
       "      <th>Max Temp</th>\n",
       "      <th>Temp Promedio</th>\n",
       "      <th>Vapor</th>\n",
       "      <th>Wind Speed</th>\n",
       "      <th>Precipitacion</th>\n",
       "      <th>Departamento</th>\n",
       "      <th>Irrigacion</th>\n",
       "      <th>Produccion</th>\n",
       "      <th>Toneladas por hectaria</th>\n",
       "    </tr>\n",
       "  </thead>\n",
       "  <tbody>\n",
       "    <tr>\n",
       "      <th>0</th>\n",
       "      <td>2000</td>\n",
       "      <td>1</td>\n",
       "      <td>2000</td>\n",
       "      <td>183.5</td>\n",
       "      <td>4593.10</td>\n",
       "      <td>23.34</td>\n",
       "      <td>32.93</td>\n",
       "      <td>28.14</td>\n",
       "      <td>38.22</td>\n",
       "      <td>1.05</td>\n",
       "      <td>5.83</td>\n",
       "      <td>1</td>\n",
       "      <td>1</td>\n",
       "      <td>5969.732058</td>\n",
       "      <td>59.697321</td>\n",
       "    </tr>\n",
       "    <tr>\n",
       "      <th>1</th>\n",
       "      <td>2001</td>\n",
       "      <td>1</td>\n",
       "      <td>2001</td>\n",
       "      <td>183.0</td>\n",
       "      <td>4591.66</td>\n",
       "      <td>23.84</td>\n",
       "      <td>33.27</td>\n",
       "      <td>28.56</td>\n",
       "      <td>39.24</td>\n",
       "      <td>1.09</td>\n",
       "      <td>5.84</td>\n",
       "      <td>1</td>\n",
       "      <td>1</td>\n",
       "      <td>5625.796938</td>\n",
       "      <td>56.257969</td>\n",
       "    </tr>\n",
       "    <tr>\n",
       "      <th>2</th>\n",
       "      <td>2002</td>\n",
       "      <td>1</td>\n",
       "      <td>2002</td>\n",
       "      <td>183.0</td>\n",
       "      <td>4591.66</td>\n",
       "      <td>24.13</td>\n",
       "      <td>33.74</td>\n",
       "      <td>28.94</td>\n",
       "      <td>40.13</td>\n",
       "      <td>0.94</td>\n",
       "      <td>5.84</td>\n",
       "      <td>1</td>\n",
       "      <td>1</td>\n",
       "      <td>4309.850302</td>\n",
       "      <td>43.098503</td>\n",
       "    </tr>\n",
       "    <tr>\n",
       "      <th>3</th>\n",
       "      <td>2003</td>\n",
       "      <td>1</td>\n",
       "      <td>2003</td>\n",
       "      <td>183.0</td>\n",
       "      <td>4591.66</td>\n",
       "      <td>24.08</td>\n",
       "      <td>33.28</td>\n",
       "      <td>28.68</td>\n",
       "      <td>39.50</td>\n",
       "      <td>1.11</td>\n",
       "      <td>5.84</td>\n",
       "      <td>1</td>\n",
       "      <td>1</td>\n",
       "      <td>4121.129416</td>\n",
       "      <td>41.211294</td>\n",
       "    </tr>\n",
       "    <tr>\n",
       "      <th>4</th>\n",
       "      <td>2004</td>\n",
       "      <td>1</td>\n",
       "      <td>2004</td>\n",
       "      <td>183.5</td>\n",
       "      <td>4593.10</td>\n",
       "      <td>24.40</td>\n",
       "      <td>33.39</td>\n",
       "      <td>28.90</td>\n",
       "      <td>40.11</td>\n",
       "      <td>1.05</td>\n",
       "      <td>5.83</td>\n",
       "      <td>1</td>\n",
       "      <td>1</td>\n",
       "      <td>4565.883797</td>\n",
       "      <td>45.658838</td>\n",
       "    </tr>\n",
       "  </tbody>\n",
       "</table>\n",
       "</div>"
      ],
      "text/plain": [
       "   Hoja  Station Number   Año    Día  Irradiacion  Min Temp  Max Temp  \\\n",
       "0  2000               1  2000  183.5      4593.10     23.34     32.93   \n",
       "1  2001               1  2001  183.0      4591.66     23.84     33.27   \n",
       "2  2002               1  2002  183.0      4591.66     24.13     33.74   \n",
       "3  2003               1  2003  183.0      4591.66     24.08     33.28   \n",
       "4  2004               1  2004  183.5      4593.10     24.40     33.39   \n",
       "\n",
       "   Temp Promedio  Vapor  Wind Speed  Precipitacion  Departamento  Irrigacion  \\\n",
       "0          28.14  38.22        1.05           5.83             1           1   \n",
       "1          28.56  39.24        1.09           5.84             1           1   \n",
       "2          28.94  40.13        0.94           5.84             1           1   \n",
       "3          28.68  39.50        1.11           5.84             1           1   \n",
       "4          28.90  40.11        1.05           5.83             1           1   \n",
       "\n",
       "    Produccion  Toneladas por hectaria  \n",
       "0  5969.732058               59.697321  \n",
       "1  5625.796938               56.257969  \n",
       "2  4309.850302               43.098503  \n",
       "3  4121.129416               41.211294  \n",
       "4  4565.883797               45.658838  "
      ]
     },
     "execution_count": 32,
     "metadata": {},
     "output_type": "execute_result"
    }
   ],
   "source": [
    "#Explorar Archivo\n",
    "df.head()"
   ]
  },
  {
   "cell_type": "code",
   "execution_count": 33,
   "id": "f6be900d",
   "metadata": {},
   "outputs": [],
   "source": [
    "#Emplear las varibales significativas\n",
    "df = df[[\"Irradiacion\",\"Max Temp\",\"Precipitacion\",\"Vapor\",\"Min Temp\",\"Departamento\",\"Toneladas por hectaria\"]]"
   ]
  },
  {
   "cell_type": "code",
   "execution_count": 34,
   "id": "bbe5c67d",
   "metadata": {},
   "outputs": [
    {
     "data": {
      "text/html": [
       "<div>\n",
       "<style scoped>\n",
       "    .dataframe tbody tr th:only-of-type {\n",
       "        vertical-align: middle;\n",
       "    }\n",
       "\n",
       "    .dataframe tbody tr th {\n",
       "        vertical-align: top;\n",
       "    }\n",
       "\n",
       "    .dataframe thead th {\n",
       "        text-align: right;\n",
       "    }\n",
       "</style>\n",
       "<table border=\"1\" class=\"dataframe\">\n",
       "  <thead>\n",
       "    <tr style=\"text-align: right;\">\n",
       "      <th></th>\n",
       "      <th>Irradiacion</th>\n",
       "      <th>Max Temp</th>\n",
       "      <th>Precipitacion</th>\n",
       "      <th>Vapor</th>\n",
       "      <th>Min Temp</th>\n",
       "      <th>Departamento</th>\n",
       "      <th>Toneladas por hectaria</th>\n",
       "    </tr>\n",
       "  </thead>\n",
       "  <tbody>\n",
       "    <tr>\n",
       "      <th>0</th>\n",
       "      <td>4593.10</td>\n",
       "      <td>32.93</td>\n",
       "      <td>5.83</td>\n",
       "      <td>38.22</td>\n",
       "      <td>23.34</td>\n",
       "      <td>1</td>\n",
       "      <td>59.697321</td>\n",
       "    </tr>\n",
       "    <tr>\n",
       "      <th>2</th>\n",
       "      <td>4591.66</td>\n",
       "      <td>33.74</td>\n",
       "      <td>5.84</td>\n",
       "      <td>40.13</td>\n",
       "      <td>24.13</td>\n",
       "      <td>1</td>\n",
       "      <td>43.098503</td>\n",
       "    </tr>\n",
       "    <tr>\n",
       "      <th>4</th>\n",
       "      <td>4593.10</td>\n",
       "      <td>33.39</td>\n",
       "      <td>5.83</td>\n",
       "      <td>40.11</td>\n",
       "      <td>24.40</td>\n",
       "      <td>1</td>\n",
       "      <td>45.658838</td>\n",
       "    </tr>\n",
       "    <tr>\n",
       "      <th>13</th>\n",
       "      <td>4591.66</td>\n",
       "      <td>33.49</td>\n",
       "      <td>5.84</td>\n",
       "      <td>40.40</td>\n",
       "      <td>24.61</td>\n",
       "      <td>1</td>\n",
       "      <td>45.378550</td>\n",
       "    </tr>\n",
       "    <tr>\n",
       "      <th>14</th>\n",
       "      <td>4591.66</td>\n",
       "      <td>33.87</td>\n",
       "      <td>5.84</td>\n",
       "      <td>40.02</td>\n",
       "      <td>23.99</td>\n",
       "      <td>1</td>\n",
       "      <td>47.003314</td>\n",
       "    </tr>\n",
       "  </tbody>\n",
       "</table>\n",
       "</div>"
      ],
      "text/plain": [
       "    Irradiacion  Max Temp  Precipitacion  Vapor  Min Temp  Departamento  \\\n",
       "0       4593.10     32.93           5.83  38.22     23.34             1   \n",
       "2       4591.66     33.74           5.84  40.13     24.13             1   \n",
       "4       4593.10     33.39           5.83  40.11     24.40             1   \n",
       "13      4591.66     33.49           5.84  40.40     24.61             1   \n",
       "14      4591.66     33.87           5.84  40.02     23.99             1   \n",
       "\n",
       "    Toneladas por hectaria  \n",
       "0                59.697321  \n",
       "2                43.098503  \n",
       "4                45.658838  \n",
       "13               45.378550  \n",
       "14               47.003314  "
      ]
     },
     "execution_count": 34,
     "metadata": {},
     "output_type": "execute_result"
    }
   ],
   "source": [
    "#Dividir el dataset en 80% entrenamiento y 20% prueba\n",
    "train = df.sample(frac=0.8, random_state=100)\n",
    "test = df.drop(train.index)\n",
    "test.head()"
   ]
  },
  {
   "cell_type": "code",
   "execution_count": 35,
   "id": "bf679ffc",
   "metadata": {},
   "outputs": [],
   "source": [
    "#Separar características (X) y variable objetivo (y)\n",
    "train_X = train.copy()\n",
    "test_X = test.copy()\n",
    "# Asegurar que las características sean de tipo float para evitar errores\n",
    "train_X = train_X.astype(float)\n",
    "test_X = test_X.astype(float)"
   ]
  },
  {
   "cell_type": "code",
   "execution_count": 36,
   "id": "0aa146c3",
   "metadata": {},
   "outputs": [],
   "source": [
    "## Extraer columna objetivo\n",
    "train_y = train_X.pop('Toneladas por hectaria')\n",
    "test_y = test_X.pop('Toneladas por hectaria')"
   ]
  },
  {
   "cell_type": "code",
   "execution_count": 37,
   "id": "198f9eba",
   "metadata": {},
   "outputs": [],
   "source": [
    "#Construir modelo\n",
    "#Capa de normalizacion\n",
    "norm = tf.keras.layers.Normalization()\n",
    "\n",
    "# Adaptar la capa de normalización a los datos de entrenamiento\n",
    "norm.adapt(np.array(train_X))"
   ]
  },
  {
   "cell_type": "code",
   "execution_count": 38,
   "id": "a9da2173",
   "metadata": {},
   "outputs": [
    {
     "name": "stderr",
     "output_type": "stream",
     "text": [
      "c:\\Users\\anton\\AppData\\Local\\Programs\\Python\\Python311\\Lib\\site-packages\\keras\\src\\layers\\core\\dense.py:87: UserWarning: Do not pass an `input_shape`/`input_dim` argument to a layer. When using Sequential models, prefer using an `Input(shape)` object as the first layer in the model instead.\n",
      "  super().__init__(activity_regularizer=activity_regularizer, **kwargs)\n"
     ]
    },
    {
     "data": {
      "text/html": [
       "<pre style=\"white-space:pre;overflow-x:auto;line-height:normal;font-family:Menlo,'DejaVu Sans Mono',consolas,'Courier New',monospace\"><span style=\"font-weight: bold\">Model: \"sequential_3\"</span>\n",
       "</pre>\n"
      ],
      "text/plain": [
       "\u001b[1mModel: \"sequential_3\"\u001b[0m\n"
      ]
     },
     "metadata": {},
     "output_type": "display_data"
    },
    {
     "data": {
      "text/html": [
       "<pre style=\"white-space:pre;overflow-x:auto;line-height:normal;font-family:Menlo,'DejaVu Sans Mono',consolas,'Courier New',monospace\">┏━━━━━━━━━━━━━━━━━━━━━━━━━━━━━━━━━┳━━━━━━━━━━━━━━━━━━━━━━━━┳━━━━━━━━━━━━━━━┓\n",
       "┃<span style=\"font-weight: bold\"> Layer (type)                    </span>┃<span style=\"font-weight: bold\"> Output Shape           </span>┃<span style=\"font-weight: bold\">       Param # </span>┃\n",
       "┡━━━━━━━━━━━━━━━━━━━━━━━━━━━━━━━━━╇━━━━━━━━━━━━━━━━━━━━━━━━╇━━━━━━━━━━━━━━━┩\n",
       "│ normalization_2 (<span style=\"color: #0087ff; text-decoration-color: #0087ff\">Normalization</span>) │ (<span style=\"color: #00d7ff; text-decoration-color: #00d7ff\">None</span>, <span style=\"color: #00af00; text-decoration-color: #00af00\">4</span>)              │            <span style=\"color: #00af00; text-decoration-color: #00af00\">13</span> │\n",
       "├─────────────────────────────────┼────────────────────────┼───────────────┤\n",
       "│ dense_6 (<span style=\"color: #0087ff; text-decoration-color: #0087ff\">Dense</span>)                 │ (<span style=\"color: #00d7ff; text-decoration-color: #00d7ff\">None</span>, <span style=\"color: #00af00; text-decoration-color: #00af00\">64</span>)             │           <span style=\"color: #00af00; text-decoration-color: #00af00\">320</span> │\n",
       "├─────────────────────────────────┼────────────────────────┼───────────────┤\n",
       "│ dense_7 (<span style=\"color: #0087ff; text-decoration-color: #0087ff\">Dense</span>)                 │ (<span style=\"color: #00d7ff; text-decoration-color: #00d7ff\">None</span>, <span style=\"color: #00af00; text-decoration-color: #00af00\">1</span>)              │            <span style=\"color: #00af00; text-decoration-color: #00af00\">65</span> │\n",
       "└─────────────────────────────────┴────────────────────────┴───────────────┘\n",
       "</pre>\n"
      ],
      "text/plain": [
       "┏━━━━━━━━━━━━━━━━━━━━━━━━━━━━━━━━━┳━━━━━━━━━━━━━━━━━━━━━━━━┳━━━━━━━━━━━━━━━┓\n",
       "┃\u001b[1m \u001b[0m\u001b[1mLayer (type)                   \u001b[0m\u001b[1m \u001b[0m┃\u001b[1m \u001b[0m\u001b[1mOutput Shape          \u001b[0m\u001b[1m \u001b[0m┃\u001b[1m \u001b[0m\u001b[1m      Param #\u001b[0m\u001b[1m \u001b[0m┃\n",
       "┡━━━━━━━━━━━━━━━━━━━━━━━━━━━━━━━━━╇━━━━━━━━━━━━━━━━━━━━━━━━╇━━━━━━━━━━━━━━━┩\n",
       "│ normalization_2 (\u001b[38;5;33mNormalization\u001b[0m) │ (\u001b[38;5;45mNone\u001b[0m, \u001b[38;5;34m4\u001b[0m)              │            \u001b[38;5;34m13\u001b[0m │\n",
       "├─────────────────────────────────┼────────────────────────┼───────────────┤\n",
       "│ dense_6 (\u001b[38;5;33mDense\u001b[0m)                 │ (\u001b[38;5;45mNone\u001b[0m, \u001b[38;5;34m64\u001b[0m)             │           \u001b[38;5;34m320\u001b[0m │\n",
       "├─────────────────────────────────┼────────────────────────┼───────────────┤\n",
       "│ dense_7 (\u001b[38;5;33mDense\u001b[0m)                 │ (\u001b[38;5;45mNone\u001b[0m, \u001b[38;5;34m1\u001b[0m)              │            \u001b[38;5;34m65\u001b[0m │\n",
       "└─────────────────────────────────┴────────────────────────┴───────────────┘\n"
      ]
     },
     "metadata": {},
     "output_type": "display_data"
    },
    {
     "data": {
      "text/html": [
       "<pre style=\"white-space:pre;overflow-x:auto;line-height:normal;font-family:Menlo,'DejaVu Sans Mono',consolas,'Courier New',monospace\"><span style=\"font-weight: bold\"> Total params: </span><span style=\"color: #00af00; text-decoration-color: #00af00\">398</span> (1.56 KB)\n",
       "</pre>\n"
      ],
      "text/plain": [
       "\u001b[1m Total params: \u001b[0m\u001b[38;5;34m398\u001b[0m (1.56 KB)\n"
      ]
     },
     "metadata": {},
     "output_type": "display_data"
    },
    {
     "data": {
      "text/html": [
       "<pre style=\"white-space:pre;overflow-x:auto;line-height:normal;font-family:Menlo,'DejaVu Sans Mono',consolas,'Courier New',monospace\"><span style=\"font-weight: bold\"> Trainable params: </span><span style=\"color: #00af00; text-decoration-color: #00af00\">385</span> (1.50 KB)\n",
       "</pre>\n"
      ],
      "text/plain": [
       "\u001b[1m Trainable params: \u001b[0m\u001b[38;5;34m385\u001b[0m (1.50 KB)\n"
      ]
     },
     "metadata": {},
     "output_type": "display_data"
    },
    {
     "data": {
      "text/html": [
       "<pre style=\"white-space:pre;overflow-x:auto;line-height:normal;font-family:Menlo,'DejaVu Sans Mono',consolas,'Courier New',monospace\"><span style=\"font-weight: bold\"> Non-trainable params: </span><span style=\"color: #00af00; text-decoration-color: #00af00\">13</span> (56.00 B)\n",
       "</pre>\n"
      ],
      "text/plain": [
       "\u001b[1m Non-trainable params: \u001b[0m\u001b[38;5;34m13\u001b[0m (56.00 B)\n"
      ]
     },
     "metadata": {},
     "output_type": "display_data"
    }
   ],
   "source": [
    "# Modelo base con una capa oculta\n",
    "linear_model = tf.keras.Sequential([\n",
    "    norm,\n",
    "    tf.keras.layers.Dense(64, activation='relu', input_shape=(4,)),  # Capa oculta con 64 neuronas\n",
    "    tf.keras.layers.Dense(1) # Capa de salida\n",
    "])\n",
    "linear_model.build(input_shape=(None, 4)) \n",
    "# Mostrar arquitectura del modelo\n",
    "linear_model.summary()"
   ]
  },
  {
   "cell_type": "code",
   "execution_count": 39,
   "id": "66fa02e2",
   "metadata": {},
   "outputs": [
    {
     "name": "stdout",
     "output_type": "stream",
     "text": [
      "Epoch 1/100\n"
     ]
    },
    {
     "ename": "ValueError",
     "evalue": "Exception encountered when calling Sequential.call().\n\n\u001b[1mInput 0 of layer \"dense_6\" is incompatible with the layer: expected axis -1 of input shape to have value 4, but received input with shape (None, 6)\u001b[0m\n\nArguments received by Sequential.call():\n  • inputs=tf.Tensor(shape=(None, 6), dtype=float32)\n  • training=True\n  • mask=None",
     "output_type": "error",
     "traceback": [
      "\u001b[1;31m---------------------------------------------------------------------------\u001b[0m",
      "\u001b[1;31mValueError\u001b[0m                                Traceback (most recent call last)",
      "Cell \u001b[1;32mIn[39], line 7\u001b[0m\n\u001b[0;32m      2\u001b[0m linear_model\u001b[38;5;241m.\u001b[39mcompile(\n\u001b[0;32m      3\u001b[0m     optimizer\u001b[38;5;241m=\u001b[39mtf\u001b[38;5;241m.\u001b[39mkeras\u001b[38;5;241m.\u001b[39moptimizers\u001b[38;5;241m.\u001b[39mAdam(learning_rate\u001b[38;5;241m=\u001b[39m\u001b[38;5;241m0.1\u001b[39m),\n\u001b[0;32m      4\u001b[0m     loss\u001b[38;5;241m=\u001b[39m\u001b[38;5;124m'\u001b[39m\u001b[38;5;124mmean_absolute_error\u001b[39m\u001b[38;5;124m'\u001b[39m)\n\u001b[0;32m      6\u001b[0m \u001b[38;5;66;03m#Entrenar Modelo\u001b[39;00m\n\u001b[1;32m----> 7\u001b[0m history \u001b[38;5;241m=\u001b[39m \u001b[43mlinear_model\u001b[49m\u001b[38;5;241;43m.\u001b[39;49m\u001b[43mfit\u001b[49m\u001b[43m(\u001b[49m\n\u001b[0;32m      8\u001b[0m \u001b[43m    \u001b[49m\u001b[43mtrain_X\u001b[49m\u001b[43m,\u001b[49m\n\u001b[0;32m      9\u001b[0m \u001b[43m    \u001b[49m\u001b[43mtrain_y\u001b[49m\u001b[43m,\u001b[49m\n\u001b[0;32m     10\u001b[0m \u001b[43m    \u001b[49m\u001b[43mepochs\u001b[49m\u001b[38;5;241;43m=\u001b[39;49m\u001b[38;5;241;43m100\u001b[39;49m\u001b[43m,\u001b[49m\n\u001b[0;32m     11\u001b[0m \u001b[43m    \u001b[49m\u001b[43mvalidation_split\u001b[49m\u001b[43m \u001b[49m\u001b[38;5;241;43m=\u001b[39;49m\u001b[43m \u001b[49m\u001b[38;5;241;43m0.2\u001b[39;49m\u001b[43m,\u001b[49m\n\u001b[0;32m     12\u001b[0m \u001b[43m    \u001b[49m\u001b[43mverbose\u001b[49m\u001b[38;5;241;43m=\u001b[39;49m\u001b[38;5;241;43m1\u001b[39;49m\u001b[43m)\u001b[49m\n",
      "File \u001b[1;32mc:\\Users\\anton\\AppData\\Local\\Programs\\Python\\Python311\\Lib\\site-packages\\keras\\src\\utils\\traceback_utils.py:122\u001b[0m, in \u001b[0;36mfilter_traceback.<locals>.error_handler\u001b[1;34m(*args, **kwargs)\u001b[0m\n\u001b[0;32m    119\u001b[0m     filtered_tb \u001b[38;5;241m=\u001b[39m _process_traceback_frames(e\u001b[38;5;241m.\u001b[39m__traceback__)\n\u001b[0;32m    120\u001b[0m     \u001b[38;5;66;03m# To get the full stack trace, call:\u001b[39;00m\n\u001b[0;32m    121\u001b[0m     \u001b[38;5;66;03m# `keras.config.disable_traceback_filtering()`\u001b[39;00m\n\u001b[1;32m--> 122\u001b[0m     \u001b[38;5;28;01mraise\u001b[39;00m e\u001b[38;5;241m.\u001b[39mwith_traceback(filtered_tb) \u001b[38;5;28;01mfrom\u001b[39;00m\u001b[38;5;250m \u001b[39m\u001b[38;5;28;01mNone\u001b[39;00m\n\u001b[0;32m    123\u001b[0m \u001b[38;5;28;01mfinally\u001b[39;00m:\n\u001b[0;32m    124\u001b[0m     \u001b[38;5;28;01mdel\u001b[39;00m filtered_tb\n",
      "File \u001b[1;32mc:\\Users\\anton\\AppData\\Local\\Programs\\Python\\Python311\\Lib\\site-packages\\keras\\src\\layers\\input_spec.py:227\u001b[0m, in \u001b[0;36massert_input_compatibility\u001b[1;34m(input_spec, inputs, layer_name)\u001b[0m\n\u001b[0;32m    222\u001b[0m     \u001b[38;5;28;01mfor\u001b[39;00m axis, value \u001b[38;5;129;01min\u001b[39;00m spec\u001b[38;5;241m.\u001b[39maxes\u001b[38;5;241m.\u001b[39mitems():\n\u001b[0;32m    223\u001b[0m         \u001b[38;5;28;01mif\u001b[39;00m value \u001b[38;5;129;01mis\u001b[39;00m \u001b[38;5;129;01mnot\u001b[39;00m \u001b[38;5;28;01mNone\u001b[39;00m \u001b[38;5;129;01mand\u001b[39;00m shape[axis] \u001b[38;5;129;01mnot\u001b[39;00m \u001b[38;5;129;01min\u001b[39;00m {\n\u001b[0;32m    224\u001b[0m             value,\n\u001b[0;32m    225\u001b[0m             \u001b[38;5;28;01mNone\u001b[39;00m,\n\u001b[0;32m    226\u001b[0m         }:\n\u001b[1;32m--> 227\u001b[0m             \u001b[38;5;28;01mraise\u001b[39;00m \u001b[38;5;167;01mValueError\u001b[39;00m(\n\u001b[0;32m    228\u001b[0m                 \u001b[38;5;124mf\u001b[39m\u001b[38;5;124m'\u001b[39m\u001b[38;5;124mInput \u001b[39m\u001b[38;5;132;01m{\u001b[39;00minput_index\u001b[38;5;132;01m}\u001b[39;00m\u001b[38;5;124m of layer \u001b[39m\u001b[38;5;124m\"\u001b[39m\u001b[38;5;132;01m{\u001b[39;00mlayer_name\u001b[38;5;132;01m}\u001b[39;00m\u001b[38;5;124m\"\u001b[39m\u001b[38;5;124m is \u001b[39m\u001b[38;5;124m'\u001b[39m\n\u001b[0;32m    229\u001b[0m                 \u001b[38;5;124mf\u001b[39m\u001b[38;5;124m\"\u001b[39m\u001b[38;5;124mincompatible with the layer: expected axis \u001b[39m\u001b[38;5;132;01m{\u001b[39;00maxis\u001b[38;5;132;01m}\u001b[39;00m\u001b[38;5;124m \u001b[39m\u001b[38;5;124m\"\u001b[39m\n\u001b[0;32m    230\u001b[0m                 \u001b[38;5;124mf\u001b[39m\u001b[38;5;124m\"\u001b[39m\u001b[38;5;124mof input shape to have value \u001b[39m\u001b[38;5;132;01m{\u001b[39;00mvalue\u001b[38;5;132;01m}\u001b[39;00m\u001b[38;5;124m, \u001b[39m\u001b[38;5;124m\"\u001b[39m\n\u001b[0;32m    231\u001b[0m                 \u001b[38;5;124m\"\u001b[39m\u001b[38;5;124mbut received input with \u001b[39m\u001b[38;5;124m\"\u001b[39m\n\u001b[0;32m    232\u001b[0m                 \u001b[38;5;124mf\u001b[39m\u001b[38;5;124m\"\u001b[39m\u001b[38;5;124mshape \u001b[39m\u001b[38;5;132;01m{\u001b[39;00mshape\u001b[38;5;132;01m}\u001b[39;00m\u001b[38;5;124m\"\u001b[39m\n\u001b[0;32m    233\u001b[0m             )\n\u001b[0;32m    234\u001b[0m \u001b[38;5;66;03m# Check shape.\u001b[39;00m\n\u001b[0;32m    235\u001b[0m \u001b[38;5;28;01mif\u001b[39;00m spec\u001b[38;5;241m.\u001b[39mshape \u001b[38;5;129;01mis\u001b[39;00m \u001b[38;5;129;01mnot\u001b[39;00m \u001b[38;5;28;01mNone\u001b[39;00m:\n",
      "\u001b[1;31mValueError\u001b[0m: Exception encountered when calling Sequential.call().\n\n\u001b[1mInput 0 of layer \"dense_6\" is incompatible with the layer: expected axis -1 of input shape to have value 4, but received input with shape (None, 6)\u001b[0m\n\nArguments received by Sequential.call():\n  • inputs=tf.Tensor(shape=(None, 6), dtype=float32)\n  • training=True\n  • mask=None"
     ]
    }
   ],
   "source": [
    "#Copilar Modelo\n",
    "linear_model.compile(\n",
    "    optimizer=tf.keras.optimizers.Adam(learning_rate=0.1),\n",
    "    loss='mean_absolute_error')\n",
    "\n",
    "#Entrenar Modelo\n",
    "history = linear_model.fit(\n",
    "    train_X,\n",
    "    train_y,\n",
    "    epochs=100,\n",
    "    validation_split = 0.2,\n",
    "    verbose=1)"
   ]
  },
  {
   "cell_type": "code",
   "execution_count": null,
   "id": "acc9f6b7",
   "metadata": {},
   "outputs": [],
   "source": [
    "hist = pd.DataFrame(history.history)\n",
    "hist['epoch'] = history.epoch"
   ]
  },
  {
   "cell_type": "code",
   "execution_count": null,
   "id": "9941006f",
   "metadata": {},
   "outputs": [],
   "source": [
    "#Graficar pérdida\n",
    "import matplotlib.pyplot as plt\n",
    "\n",
    "plt.figure(figsize=(8,5))\n",
    "plt.plot(history.history['loss'], label='Train Loss')\n",
    "plt.plot(history.history['val_loss'], label='Validation Loss')\n",
    "plt.xlabel('Epochs')\n",
    "plt.ylabel('Error (MPG)')\n",
    "plt.legend()\n",
    "plt.title(\"Pérdida del Modelo Base\")\n",
    "plt.show()"
   ]
  }
 ],
 "metadata": {
  "kernelspec": {
   "display_name": "Python 3",
   "language": "python",
   "name": "python3"
  },
  "language_info": {
   "codemirror_mode": {
    "name": "ipython",
    "version": 3
   },
   "file_extension": ".py",
   "mimetype": "text/x-python",
   "name": "python",
   "nbconvert_exporter": "python",
   "pygments_lexer": "ipython3",
   "version": "3.11.9"
  }
 },
 "nbformat": 4,
 "nbformat_minor": 5
}
