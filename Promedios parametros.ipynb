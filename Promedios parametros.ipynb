{
 "cells": [
  {
   "cell_type": "markdown",
   "metadata": {},
   "source": [
    "Importar librerias"
   ]
  },
  {
   "cell_type": "code",
   "execution_count": null,
   "metadata": {},
   "outputs": [],
   "source": [
    "import pandas as pd\n",
    "import zipfile\n",
    "import os\n",
    "\n",
    "# Reasignar la ruta del archivo después del reinicio\n",
    "excel_pathAntioquia1 = r\"C:\\Users\\Stefania Alvarez\\Documents\\Universidad\\2025-1\\Tesis Final\\Modelos de prediccion\\Antioquia1-Final.xlsx\"\n",
    "excel_pathAntioquia2 = r\"C:\\Users\\Stefania Alvarez\\Documents\\Universidad\\2025-1\\Tesis Final\\Modelos de prediccion\\Antioquia2-Final.xlsx\"\n",
    "\n",
    "excel_pathAtlantico1 = r\"C:\\Users\\Stefania Alvarez\\Documents\\Universidad\\2025-1\\Tesis Final\\Modelos de prediccion\\Atlantico1-Final.xlsx\"\n",
    "excel_pathAtlantico2 = r\"C:\\Users\\Stefania Alvarez\\Documents\\Universidad\\2025-1\\Tesis Final\\Modelos de prediccion\\Atlantico1-Final.xlsx\"\n",
    "\n",
    "excel_pathCordoba1 = r\"C:\\Users\\Stefania Alvarez\\Documents\\Universidad\\2025-1\\Tesis Final\\Modelos de prediccion\\Cordoba1-Final.xlsx\"\n",
    "\n",
    "excel_pathGuajira1 = r\"C:\\Users\\Stefania Alvarez\\Documents\\Universidad\\2025-1\\Tesis Final\\Modelos de prediccion\\Guajira1-Final.xlsx\"\n",
    "excel_pathGuajira2 = r\"C:\\Users\\Stefania Alvarez\\Documents\\Universidad\\2025-1\\Tesis Final\\Modelos de prediccion\\Guajira2-Final.xlsx\"\n",
    "excel_pathGuajira3 = r\"C:\\Users\\Stefania Alvarez\\Documents\\Universidad\\2025-1\\Tesis Final\\Modelos de prediccion\\Guajira3-Final.xlsx\"\n",
    "\n",
    "\n",
    "new_excel_path = r\"C:\\Users\\Stefania Alvarez\\Documents\\Universidad\\2025-1\\Tesis Final\\Modelos de prediccion\\PruebaDatos.xlsx\""
   ]
  },
  {
   "cell_type": "code",
   "execution_count": 2,
   "metadata": {},
   "outputs": [],
   "source": [
    "exceles = [excel_pathAntioquia1, excel_pathAntioquia2, excel_pathAtlantico1, excel_pathAtlantico2, excel_pathCordoba1, excel_pathGuajira1, excel_pathGuajira2, excel_pathGuajira3 ]\n",
    "lugares = {\"Antioquia1\":excel_pathAntioquia1, \"Antioquia2\":excel_pathAntioquia2, \"Atlantico1\":excel_pathAtlantico1, \"Atlantico2\":excel_pathAtlantico2, \"Cordoba1\":excel_pathCordoba1, \"Guajira1\":excel_pathGuajira1,\"Guajira2\": excel_pathGuajira2,\"Guajira3\": excel_pathGuajira3}\n",
    "\n",
    "\n"
   ]
  },
  {
   "cell_type": "markdown",
   "metadata": {},
   "source": [
    "Calcular los promedios"
   ]
  },
  {
   "cell_type": "code",
   "execution_count": 3,
   "metadata": {},
   "outputs": [
    {
     "name": "stderr",
     "output_type": "stream",
     "text": [
      "C:\\Users\\Stefania Alvarez\\AppData\\Local\\Temp\\ipykernel_6968\\3488024023.py:12: FutureWarning: Setting an item of incompatible dtype is deprecated and will raise an error in a future version of pandas. Value 'Resumen_Promedios' has dtype incompatible with float64, please explicitly cast to a compatible dtype first.\n",
      "  means['Hoja'] = sheet_name\n"
     ]
    }
   ],
   "source": [
    "import pandas as pd\n",
    "import os\n",
    "\n",
    "for nombre, excel_path in lugares.items():\n",
    "    all_sheets = pd.read_excel(excel_path, sheet_name=None)\n",
    "\n",
    "    averages_df = pd.DataFrame()\n",
    "\n",
    "    for sheet_name, df in all_sheets.items():\n",
    "        numeric_df = df.select_dtypes(include='number')\n",
    "        means = numeric_df.mean().round(2)\n",
    "        means['Hoja'] = sheet_name\n",
    "        averages_df = pd.concat([averages_df, means.to_frame().T], ignore_index=True)\n",
    "\n",
    "    # Ordenar columnas\n",
    "    cols = ['Hoja'] + [col for col in averages_df.columns if col != 'Hoja']\n",
    "    averages_df = averages_df[cols]\n",
    "\n",
    "    # Limpiar nombre para la hoja de Excel\n",
    "    safe_sheet_name = f\"Resumen_{nombre}\"[:31]  # Excel solo permite 31 caracteres\n",
    "\n",
    "    with pd.ExcelWriter(new_excel_path, engine='openpyxl', mode='a', if_sheet_exists='replace') as writer:\n",
    "        averages_df.to_excel(writer, sheet_name=safe_sheet_name, index=False)\n"
   ]
  }
 ],
 "metadata": {
  "kernelspec": {
   "display_name": "Python 3",
   "language": "python",
   "name": "python3"
  },
  "language_info": {
   "codemirror_mode": {
    "name": "ipython",
    "version": 3
   },
   "file_extension": ".py",
   "mimetype": "text/x-python",
   "name": "python",
   "nbconvert_exporter": "python",
   "pygments_lexer": "ipython3",
   "version": "3.11.9"
  }
 },
 "nbformat": 4,
 "nbformat_minor": 2
}
