{
 "cells": [
  {
   "cell_type": "markdown",
   "metadata": {},
   "source": [
    "Promedio Parametros"
   ]
  },
  {
   "cell_type": "code",
   "execution_count": null,
   "metadata": {},
   "outputs": [],
   "source": [
    "import pandas as pd\n",
    "import zipfile\n",
    "import os\n",
    "\n",
    "# Reasignar la ruta del archivo después del reinicio\n",
    "excel_pathAntioquia1 = r\"C:\\Users\\Stefania Alvarez\\Documents\\Universidad\\2025-1\\Tesis Final\\Modelos de prediccion\\Antioquia1-Final.xlsx\"\n",
    "excel_pathAntioquia2 = r\"C:\\Users\\Stefania Alvarez\\Documents\\Universidad\\2025-1\\Tesis Final\\Modelos de prediccion\\Antioquia2-Final.xlsx\"\n",
    "\n",
    "excel_pathAtlantico1 = r\"C:\\Users\\Stefania Alvarez\\Documents\\Universidad\\2025-1\\Tesis Final\\Modelos de prediccion\\Atlantico1-Final.xlsx\"\n",
    "excel_pathAtlantico2 = r\"C:\\Users\\Stefania Alvarez\\Documents\\Universidad\\2025-1\\Tesis Final\\Modelos de prediccion\\Atlantico1-Final.xlsx\"\n",
    "\n",
    "excel_pathCordoba1 = r\"C:\\Users\\Stefania Alvarez\\Documents\\Universidad\\2025-1\\Tesis Final\\Modelos de prediccion\\Cordoba1-Final.xlsx\"\n",
    "\n",
    "excel_pathGuajira1 = r\"C:\\Users\\Stefania Alvarez\\Documents\\Universidad\\2025-1\\Tesis Final\\Modelos de prediccion\\Guajira1-Final.xlsx\"\n",
    "excel_pathGuajira2 = r\"C:\\Users\\Stefania Alvarez\\Documents\\Universidad\\2025-1\\Tesis Final\\Modelos de prediccion\\Guajira2-Final.xlsx\"\n",
    "excel_pathGuajira3 = r\"C:\\Users\\Stefania Alvarez\\Documents\\Universidad\\2025-1\\Tesis Final\\Modelos de prediccion\\Guajira3-Final.xlsx\"\n",
    "\n",
    "\n",
    "new_excel_path = r\"C:\\Users\\Stefania Alvarez\\Documents\\Universidad\\2025-1\\Tesis Final\\Modelos de prediccion\\PruebaDatos.xlsx\""
   ]
  },
  {
   "cell_type": "code",
   "execution_count": null,
   "metadata": {},
   "outputs": [],
   "source": [
    "exceles = [excel_pathAntioquia1, excel_pathAntioquia2, excel_pathAtlantico1, excel_pathAtlantico2, excel_pathCordoba1, excel_pathGuajira1, excel_pathGuajira2, excel_pathGuajira3 ]\n",
    "lugares = {\"Antioquia1\":excel_pathAntioquia1, \"Antioquia2\":excel_pathAntioquia2, \"Atlantico1\":excel_pathAtlantico1, \"Atlantico2\":excel_pathAtlantico2, \"Cordoba1\":excel_pathCordoba1, \"Guajira1\":excel_pathGuajira1,\"Guajira2\": excel_pathGuajira2,\"Guajira3\": excel_pathGuajira3}\n"
   ]
  },
  {
   "cell_type": "code",
   "execution_count": null,
   "metadata": {},
   "outputs": [],
   "source": [
    "import pandas as pd\n",
    "import os\n",
    "\n",
    "for nombre, excel_path in lugares.items():\n",
    "    all_sheets = pd.read_excel(excel_path, sheet_name=None)\n",
    "\n",
    "    averages_df = pd.DataFrame()\n",
    "\n",
    "    for sheet_name, df in all_sheets.items():\n",
    "        numeric_df = df.select_dtypes(include='number')\n",
    "        means = numeric_df.mean().round(2)\n",
    "        means['Hoja'] = sheet_name\n",
    "        averages_df = pd.concat([averages_df, means.to_frame().T], ignore_index=True)\n",
    "\n",
    "    # Ordenar columnas\n",
    "    cols = ['Hoja'] + [col for col in averages_df.columns if col != 'Hoja']\n",
    "    averages_df = averages_df[cols]\n",
    "\n",
    "    # Limpiar nombre para la hoja de Excel\n",
    "    safe_sheet_name = f\"Resumen_{nombre}\"[:31]  # Excel solo permite 31 caracteres\n",
    "\n",
    "    with pd.ExcelWriter(new_excel_path, engine='openpyxl', mode='a', if_sheet_exists='replace') as writer:\n",
    "        averages_df.to_excel(writer, sheet_name=safe_sheet_name, index=False)\n"
   ]
  },
  {
   "cell_type": "markdown",
   "metadata": {},
   "source": [
    "Extraer WSO"
   ]
  },
  {
   "cell_type": "code",
   "execution_count": null,
   "metadata": {},
   "outputs": [],
   "source": [
    "import os\n",
    "import pandas as pd\n",
    "\n",
    "# Directorio donde están los archivos Excel\n",
    "input_dir = r\"C:\\Users\\Stefania Alvarez\\Documents\\Universidad\\2025-1\\Tesis Final\\Modelos de prediccion\"\n",
    "output_path = os.path.join(input_dir, \"PruebaDatos.xlsx\")\n",
    "\n",
    "# Listar todos los archivos que comienzan con 'Resultados_LINTUL2_' y terminan en '.xlsx'\n",
    "excel_files = [f for f in os.listdir(input_dir) if f.startswith(\"Resultados_LINTUL2_\") and f.endswith(\".xlsx\")]\n",
    "\n",
    "# Inicializar un escritor de Excel\n",
    "with pd.ExcelWriter(output_path, engine='openpyxl') as writer:\n",
    "    for file in excel_files:\n",
    "        file_path = os.path.join(input_dir, file)\n",
    "        \n",
    "        # Leer todas las hojas del archivo actual\n",
    "        all_sheets = pd.read_excel(file_path, sheet_name=None)\n",
    "        \n",
    "        # Inicializar un DataFrame base con la columna 'time'\n",
    "        merged_df = pd.DataFrame()\n",
    "\n",
    "        for sheet_name, df in all_sheets.items():\n",
    "            if 'time' in df.columns and 'WSO' in df.columns:\n",
    "                temp_df = df[['time', 'WSO']].copy()\n",
    "                temp_df = temp_df.rename(columns={'WSO': sheet_name})  # renombrar 'WSO' como nombre de la hoja\n",
    "\n",
    "                if merged_df.empty:\n",
    "                    merged_df = temp_df\n",
    "                else:\n",
    "                    merged_df = pd.merge(merged_df, temp_df, on='time', how='outer')  # juntar por 'time'\n",
    "\n",
    "        # Guardar el resultado en una hoja con el nombre del archivo procesado\n",
    "        sheet_name = file.replace(\"Resultados_LINTUL2_\", \"\").replace(\".xlsx\", \"\")\n",
    "        merged_df.to_excel(writer, sheet_name=sheet_name[:31], index=False)  # Limitar nombre a 31 caracteres\n",
    "\n",
    "print(f\"Proceso completado. Datos guardados en {output_path}\")\n",
    "\n"
   ]
  },
  {
   "cell_type": "markdown",
   "metadata": {},
   "source": [
    "Unir en tabla para los modelos"
   ]
  },
  {
   "cell_type": "code",
   "execution_count": 6,
   "metadata": {},
   "outputs": [
    {
     "ename": "ModuleNotFoundError",
     "evalue": "No module named 'ace_tools'",
     "output_type": "error",
     "traceback": [
      "\u001b[1;31m---------------------------------------------------------------------------\u001b[0m",
      "\u001b[1;31mModuleNotFoundError\u001b[0m                       Traceback (most recent call last)",
      "Cell \u001b[1;32mIn[6], line 2\u001b[0m\n\u001b[0;32m      1\u001b[0m \u001b[38;5;28;01mimport\u001b[39;00m\u001b[38;5;250m \u001b[39m\u001b[38;5;21;01mpandas\u001b[39;00m\u001b[38;5;250m \u001b[39m\u001b[38;5;28;01mas\u001b[39;00m\u001b[38;5;250m \u001b[39m\u001b[38;5;21;01mpd\u001b[39;00m\n\u001b[1;32m----> 2\u001b[0m \u001b[38;5;28;01mimport\u001b[39;00m\u001b[38;5;250m \u001b[39m\u001b[38;5;21;01mace_tools\u001b[39;00m\u001b[38;5;250m \u001b[39m\u001b[38;5;28;01mas\u001b[39;00m\u001b[38;5;250m \u001b[39m\u001b[38;5;21;01mtools\u001b[39;00m\n\u001b[0;32m      4\u001b[0m \u001b[38;5;66;03m# Cargar datos relevantes\u001b[39;00m\n\u001b[0;32m      5\u001b[0m xls \u001b[38;5;241m=\u001b[39m \u001b[38;5;124mr\u001b[39m\u001b[38;5;124m\"\u001b[39m\u001b[38;5;124mC:\u001b[39m\u001b[38;5;124m\\\u001b[39m\u001b[38;5;124mUsers\u001b[39m\u001b[38;5;124m\\\u001b[39m\u001b[38;5;124mStefania Alvarez\u001b[39m\u001b[38;5;124m\\\u001b[39m\u001b[38;5;124mDocuments\u001b[39m\u001b[38;5;124m\\\u001b[39m\u001b[38;5;124mUniversidad\u001b[39m\u001b[38;5;124m\\\u001b[39m\u001b[38;5;124m2025-1\u001b[39m\u001b[38;5;124m\\\u001b[39m\u001b[38;5;124mTesis Final\u001b[39m\u001b[38;5;124m\\\u001b[39m\u001b[38;5;124mModelos de prediccion\u001b[39m\u001b[38;5;124m\\\u001b[39m\u001b[38;5;124mCordobaEjemplo.xlsx\u001b[39m\u001b[38;5;124m\"\u001b[39m\n",
      "\u001b[1;31mModuleNotFoundError\u001b[0m: No module named 'ace_tools'"
     ]
    }
   ],
   "source": [
    "import pandas as pd\n",
    "import ace_tools as tools\n",
    "\n",
    "# Cargar datos relevantes\n",
    "xls = r\"C:\\Users\\Stefania Alvarez\\Documents\\Universidad\\2025-1\\Tesis Final\\Modelos de prediccion\\CordobaEjemplo.xlsx\"\n",
    "clima_df = pd.read_excel(xls, sheet_name=\"Cordoba1\")\n",
    "toneladas_hora_df = pd.read_excel(xls, sheet_name=\"1_2000_2020\")\n",
    "\n",
    "# Promedio de precipitación por año desde la hoja horaria\n",
    "# Ignorar la primera columna \"time\" si existe\n",
    "if toneladas_hora_df.columns[0].lower() == 'time':\n",
    "    precipitacion_hora_df = toneladas_hora_df.iloc[:, 1:]\n",
    "\n",
    "# Calcular promedios por columna (cada columna representa un año)\n",
    "promedios_precipitacion = precipitacion_hora_df.mean()\n",
    "\n",
    "# Extraer solo las columnas necesarias de clima_df\n",
    "columnas_utiles = {\n",
    "    \"Año\": \"Ano\",\n",
    "    \"Max Temp\": \"T.Max\",\n",
    "    \"Min Temp\": \"T.Min\",\n",
    "    \"Vapor\": \"P.Vapor\",\n",
    "    \"Irradiacion\": \"Irradicion\",\n",
    "    \"Wind Speed\": \"WindSpeed\",\n",
    "    \"Precipitation\": \"Precipitacion\",\n",
    "    \"Toneladas por Hectaria\": \"Toneladas por Hectaria\",  # En caso de que ya esté incluida\n",
    "    \"Departamento\": \"Departamento\"  # En caso de que ya esté incluida\n",
    "}\n",
    "\n",
    "# Renombrar si las columnas existen\n",
    "clima_df = clima_df.rename(columns={col: columnas_utiles[col] for col in columnas_utiles if col in clima_df.columns})\n",
    "\n",
    "# Insertar las precipitaciones horarias promediadas\n",
    "clima_df[\"Precipitacion\"] = clima_df[\"Ano\"].map(promedios_precipitacion)\n",
    "\n",
    "# Agregar columnas faltantes para el formato final\n",
    "if \"Departamento\" not in clima_df.columns:\n",
    "    clima_df[\"Departamento\"] = 1\n",
    "if \"Toneladas por Hectaria\" not in clima_df.columns:\n",
    "    clima_df[\"Toneladas por Hectaria\"] = 0.0  # Placeholder si no está\n",
    "\n",
    "# Reordenar las columnas para que coincidan con la tabla final\n",
    "columnas_finales = [\"Ano\", \"T.Max\", \"T.Min\", \"P.Vapor\", \"Precipitacion\", \"Irradicion\", \"WindSpeed\", \"Departamento\", \"Toneladas por Hectaria\"]\n",
    "tabla_final = clima_df[columnas_finales]\n",
    "\n",
    "# Guardar a un nuevo Excel\n",
    "output_path = r\"C:\\Users\\Stefania Alvarez\\Documents\\Universidad\\2025-1\\Tesis Final\\Modelos de prediccion\\Tabla_Resumen_Cordoba.xlsx\"\n",
    "tabla_final.to_excel(output_path, index=False)\n",
    "\n",
    "tools.display_dataframe_to_user(name=\"Tabla Final de Resumen\", dataframe=tabla_final)\n"
   ]
  }
 ],
 "metadata": {
  "kernelspec": {
   "display_name": "Python 3",
   "language": "python",
   "name": "python3"
  },
  "language_info": {
   "codemirror_mode": {
    "name": "ipython",
    "version": 3
   },
   "file_extension": ".py",
   "mimetype": "text/x-python",
   "name": "python",
   "nbconvert_exporter": "python",
   "pygments_lexer": "ipython3",
   "version": "3.11.9"
  }
 },
 "nbformat": 4,
 "nbformat_minor": 2
}
