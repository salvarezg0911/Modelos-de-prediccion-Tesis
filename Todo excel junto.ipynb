{
 "cells": [
  {
   "cell_type": "markdown",
   "metadata": {},
   "source": [
    "Promedio Parametros"
   ]
  },
  {
   "cell_type": "code",
   "execution_count": 19,
   "metadata": {},
   "outputs": [],
   "source": [
    "import pandas as pd\n",
    "import zipfile\n",
    "import os\n",
    "\n",
    "# Reasignar la ruta del archivo después del reinicio\n",
    "excel_pathAntioquia1 = r\"C:\\Users\\Stefania Alvarez\\Documents\\Universidad\\2025-1\\Tesis Final\\Modelos de prediccion\\Archivos IDEAM finaless\\Antioquia1-Final.xlsx\"\n",
    "excel_pathAntioquia2 = r\"C:\\Users\\Stefania Alvarez\\Documents\\Universidad\\2025-1\\Tesis Final\\Modelos de prediccion\\Archivos IDEAM finaless\\Antioquia2-Final.xlsx\"\n",
    "\n",
    "excel_pathAtlantico1 = r\"C:\\Users\\Stefania Alvarez\\Documents\\Universidad\\2025-1\\Tesis Final\\Modelos de prediccion\\Archivos IDEAM finaless\\Atlantico1-Final.xlsx\"\n",
    "excel_pathAtlantico2 = r\"C:\\Users\\Stefania Alvarez\\Documents\\Universidad\\2025-1\\Tesis Final\\Modelos de prediccion\\Archivos IDEAM finaless\\Atlantico2-Final.xlsx\"\n",
    "\n",
    "excel_pathCordoba1 = r\"C:\\Users\\Stefania Alvarez\\Documents\\Universidad\\2025-1\\Tesis Final\\Modelos de prediccion\\Archivos IDEAM finaless\\Cordoba1-Final.xlsx\"\n",
    "\n",
    "excel_pathGuajira1 = r\"C:\\Users\\Stefania Alvarez\\Documents\\Universidad\\2025-1\\Tesis Final\\Modelos de prediccion\\Archivos IDEAM finaless\\Guajira1-Final.xlsx\"\n",
    "excel_pathGuajira2 = r\"C:\\Users\\Stefania Alvarez\\Documents\\Universidad\\2025-1\\Tesis Final\\Modelos de prediccion\\Archivos IDEAM finaless\\Guajira2-Final.xlsx\"\n",
    "excel_pathGuajira3 = r\"C:\\Users\\Stefania Alvarez\\Documents\\Universidad\\2025-1\\Tesis Final\\Modelos de prediccion\\Archivos IDEAM finaless\\Guajira3-Final.xlsx\"\n",
    "\n",
    "excel_pathCesar1 = r\"C:\\Users\\Stefania Alvarez\\Documents\\Universidad\\2025-1\\Tesis Final\\Modelos de prediccion\\Archivos IDEAM finaless\\Cesar1-Final.xlsx\"\n",
    "excel_pathCesar2 = r\"C:\\Users\\Stefania Alvarez\\Documents\\Universidad\\2025-1\\Tesis Final\\Modelos de prediccion\\Archivos IDEAM finaless\\Cesar2-Final.xlsx\"\n",
    "\n",
    "excel_pathMagdalena1 = r\"C:\\Users\\Stefania Alvarez\\Documents\\Universidad\\2025-1\\Tesis Final\\Modelos de prediccion\\Archivos IDEAM finaless\\Magdalena1-Final.xlsx\"\n",
    "excel_pathMagdalena2 = r\"C:\\Users\\Stefania Alvarez\\Documents\\Universidad\\2025-1\\Tesis Final\\Modelos de prediccion\\Archivos IDEAM finaless\\Magdalena2-Final.xlsx\"\n",
    "\n",
    "excel_pathBolivar1 = r\"C:\\Users\\Stefania Alvarez\\Documents\\Universidad\\2025-1\\Tesis Final\\Modelos de prediccion\\Archivos IDEAM finaless\\Bolivar1-Final.xlsx\"\n",
    "excel_pathBolivar2 = r\"C:\\Users\\Stefania Alvarez\\Documents\\Universidad\\2025-1\\Tesis Final\\Modelos de prediccion\\Archivos IDEAM finaless\\Bolivar2-Final.xlsx\"\n",
    "\n",
    "excel_pathChoco1 = r\"C:\\Users\\Stefania Alvarez\\Documents\\Universidad\\2025-1\\Tesis Final\\Modelos de prediccion\\Archivos IDEAM finaless\\Choco1-Final.xlsx\"\n",
    "\n",
    "new_excel_path = r\"C:\\Users\\Stefania Alvarez\\Documents\\Universidad\\2025-1\\Tesis Final\\Modelos de prediccion\\Resultados\\PruebaDatos.xlsx\""
   ]
  },
  {
   "cell_type": "code",
   "execution_count": 20,
   "metadata": {},
   "outputs": [],
   "source": [
    "exceles = [excel_pathAntioquia1, excel_pathAntioquia2, excel_pathAtlantico1, excel_pathAtlantico2, excel_pathCordoba1, excel_pathGuajira1, excel_pathGuajira2, excel_pathGuajira3, excel_pathCesar1, excel_pathCesar2, excel_pathMagdalena1, excel_pathMagdalena2, excel_pathBolivar1, excel_pathBolivar2, excel_pathChoco1 ]\n",
    "lugares = {\"Antioquia5\":excel_pathAntioquia1, \"Antioquia6\":excel_pathAntioquia2, \"Atlantico7\":excel_pathAtlantico1, \"Atlantico8\":excel_pathAtlantico2, \"Cordoba1\":excel_pathCordoba1, \"Guajira2\":excel_pathGuajira1,\"Guajira3\": excel_pathGuajira2,\"Guajira4\": excel_pathGuajira3, \"Cesar11\":excel_pathCesar1, \"Cesar12\":excel_pathCesar2, \"Magdalena9\":excel_pathMagdalena1,\"Magdalena10\":excel_pathMagdalena2, \"Bolivar13\":excel_pathBolivar1,\"Bolivar14\":excel_pathBolivar2, \"Choco15\":excel_pathChoco1}\n"
   ]
  },
  {
   "cell_type": "code",
   "execution_count": 21,
   "metadata": {},
   "outputs": [
    {
     "name": "stdout",
     "output_type": "stream",
     "text": [
      "Antioquia5\n"
     ]
    },
    {
     "name": "stderr",
     "output_type": "stream",
     "text": [
      "C:\\Users\\Stefania Alvarez\\AppData\\Local\\Temp\\ipykernel_12248\\1298972761.py:12: FutureWarning: Setting an item of incompatible dtype is deprecated and will raise an error in a future version of pandas. Value 'Resumen_Promedios' has dtype incompatible with float64, please explicitly cast to a compatible dtype first.\n",
      "  means['Hoja'] = sheet_name\n",
      "Exception ignored in: <function ZipFile.__del__ at 0x0000024299FF8EA0>\n",
      "Traceback (most recent call last):\n",
      "  File \"c:\\Users\\Stefania Alvarez\\AppData\\Local\\Programs\\Python\\Python311\\Lib\\zipfile.py\", line 1894, in __del__\n",
      "    self.close()\n",
      "  File \"c:\\Users\\Stefania Alvarez\\AppData\\Local\\Programs\\Python\\Python311\\Lib\\zipfile.py\", line 1911, in close\n",
      "    self.fp.seek(self.start_dir)\n",
      "ValueError: seek of closed file\n"
     ]
    },
    {
     "name": "stdout",
     "output_type": "stream",
     "text": [
      "Antioquia6\n",
      "Atlantico7\n",
      "Atlantico8\n",
      "Cordoba1\n",
      "Guajira2\n",
      "Guajira3\n",
      "Guajira4\n",
      "Cesar11\n",
      "Cesar12\n",
      "Magdalena9\n",
      "Magdalena10\n",
      "Bolivar13\n",
      "Bolivar14\n",
      "Choco15\n"
     ]
    }
   ],
   "source": [
    "import pandas as pd\n",
    "import os\n",
    "\n",
    "for nombre, excel_path in lugares.items():\n",
    "    all_sheets = pd.read_excel(excel_path, sheet_name=None)\n",
    "    print(nombre)\n",
    "    averages_df = pd.DataFrame()\n",
    "\n",
    "    for sheet_name, df in all_sheets.items():\n",
    "        numeric_df = df.select_dtypes(include='number')\n",
    "        means = numeric_df.mean().round(2)\n",
    "        means['Hoja'] = sheet_name\n",
    "        averages_df = pd.concat([averages_df, means.to_frame().T], ignore_index=True)\n",
    "\n",
    "    # Ordenar columnas\n",
    "    cols = ['Hoja'] + [col for col in averages_df.columns if col != 'Hoja']\n",
    "    averages_df = averages_df[cols]\n",
    "\n",
    "    # Limpiar nombre para la hoja de Excel\n",
    "    safe_sheet_name = f\"Resumen_{nombre}\"[:31]  # Excel solo permite 31 caracteres\n",
    "\n",
    "    with pd.ExcelWriter(new_excel_path, engine='openpyxl', mode='a', if_sheet_exists='replace') as writer:\n",
    "        averages_df.to_excel(writer, sheet_name=safe_sheet_name, index=False)\n"
   ]
  },
  {
   "cell_type": "markdown",
   "metadata": {},
   "source": [
    "Extraer WSO"
   ]
  },
  {
   "cell_type": "code",
   "execution_count": 15,
   "metadata": {},
   "outputs": [
    {
     "name": "stdout",
     "output_type": "stream",
     "text": [
      "Proceso completado. Datos guardados en C:\\Users\\Stefania Alvarez\\Documents\\Universidad\\2025-1\\Tesis Final\\Modelos de prediccion\\Resultados\\PruebaDatos.xlsx\n"
     ]
    }
   ],
   "source": [
    "import os\n",
    "import pandas as pd\n",
    "\n",
    "# Directorio donde están los archivos Excel\n",
    "input_dir = r\"C:\\Users\\Stefania Alvarez\\Documents\\Universidad\\2025-1\\Tesis Final\\Modelos de prediccion\\Resultados\"\n",
    "output_path = os.path.join(input_dir, \"PruebaDatos.xlsx\")\n",
    "\n",
    "# Listar todos los archivos que comienzan con 'Resultados_LINTUL2_' y terminan en '.xlsx'\n",
    "excel_files = [f for f in os.listdir(input_dir) if f.startswith(\"Resultados_LINTUL2_\") and f.endswith(\".xlsx\")]\n",
    "\n",
    "# Inicializar un escritor de Excel\n",
    "with pd.ExcelWriter(output_path, engine='openpyxl') as writer:\n",
    "    for file in excel_files:\n",
    "        file_path = os.path.join(input_dir, file)\n",
    "        \n",
    "        # Leer todas las hojas del archivo actual\n",
    "        all_sheets = pd.read_excel(file_path, sheet_name=None)\n",
    "        \n",
    "        # Inicializar un DataFrame base con la columna 'time'\n",
    "        merged_df = pd.DataFrame()\n",
    "\n",
    "        for sheet_name, df in all_sheets.items():\n",
    "            if 'time' in df.columns and 'WSO' in df.columns:\n",
    "                temp_df = df[['time', 'WSO']].copy()\n",
    "                temp_df = temp_df.rename(columns={'WSO': sheet_name})  # renombrar 'WSO' como nombre de la hoja\n",
    "\n",
    "                if merged_df.empty:\n",
    "                    merged_df = temp_df\n",
    "                else:\n",
    "                    merged_df = pd.merge(merged_df, temp_df, on='time', how='outer')  # juntar por 'time'\n",
    "\n",
    "        # Guardar el resultado en una hoja con el nombre del archivo procesado\n",
    "        sheet_name = file.replace(\"Resultados_LINTUL2_\", \"\").replace(\".xlsx\", \"\")\n",
    "        merged_df.to_excel(writer, sheet_name=sheet_name[:31], index=False)  # Limitar nombre a 31 caracteres\n",
    "\n",
    "print(f\"Proceso completado. Datos guardados en {output_path}\")\n",
    "\n"
   ]
  },
  {
   "cell_type": "markdown",
   "metadata": {},
   "source": [
    "Unir en tabla para los modelos"
   ]
  },
  {
   "cell_type": "code",
   "execution_count": 8,
   "metadata": {},
   "outputs": [
    {
     "name": "stdout",
     "output_type": "stream",
     "text": [
      "\n",
      "🔄 Procesando: Resumen_Cordoba1 con datos de 1_2000_2020\n",
      "✅ Guardado: C:\\Users\\Stefania Alvarez\\Documents\\Universidad\\2025-1\\Tesis Final\\Modelos de prediccion\\Resumen_Cordoba1_con_toneladas.xlsx\n",
      "\n",
      "🔄 Procesando: Resumen_Guajira2 con datos de 2_2000_2020\n",
      "✅ Guardado: C:\\Users\\Stefania Alvarez\\Documents\\Universidad\\2025-1\\Tesis Final\\Modelos de prediccion\\Resumen_Guajira2_con_toneladas.xlsx\n",
      "\n",
      "🔄 Procesando: Resumen_Guajira3 con datos de 3_2000_2020\n",
      "✅ Guardado: C:\\Users\\Stefania Alvarez\\Documents\\Universidad\\2025-1\\Tesis Final\\Modelos de prediccion\\Resumen_Guajira3_con_toneladas.xlsx\n",
      "\n",
      "🔄 Procesando: Resumen_Guajira4 con datos de 4_2000_2020\n",
      "✅ Guardado: C:\\Users\\Stefania Alvarez\\Documents\\Universidad\\2025-1\\Tesis Final\\Modelos de prediccion\\Resumen_Guajira4_con_toneladas.xlsx\n",
      "\n",
      "🔄 Procesando: Resumen_Antioquia5 con datos de 5_2000_2020\n",
      "✅ Guardado: C:\\Users\\Stefania Alvarez\\Documents\\Universidad\\2025-1\\Tesis Final\\Modelos de prediccion\\Resumen_Antioquia5_con_toneladas.xlsx\n",
      "\n",
      "🔄 Procesando: Resumen_Antioquia6 con datos de 6_2000_2020\n",
      "✅ Guardado: C:\\Users\\Stefania Alvarez\\Documents\\Universidad\\2025-1\\Tesis Final\\Modelos de prediccion\\Resumen_Antioquia6_con_toneladas.xlsx\n",
      "\n",
      "🔄 Procesando: Resumen_Atlantico7 con datos de 7_2000_2020\n",
      "✅ Guardado: C:\\Users\\Stefania Alvarez\\Documents\\Universidad\\2025-1\\Tesis Final\\Modelos de prediccion\\Resumen_Atlantico7_con_toneladas.xlsx\n",
      "\n",
      "🔄 Procesando: Resumen_Atlantico8 con datos de 8_2000_2020\n",
      "✅ Guardado: C:\\Users\\Stefania Alvarez\\Documents\\Universidad\\2025-1\\Tesis Final\\Modelos de prediccion\\Resumen_Atlantico8_con_toneladas.xlsx\n"
     ]
    }
   ],
   "source": [
    "import pandas as pd\n",
    "import os\n",
    "\n",
    "# Ruta\n",
    "file_path = r\"C:\\Users\\Stefania Alvarez\\Documents\\Universidad\\2025-1\\Tesis Final\\Modelos de prediccion\\PruebaDatos.xlsx\"\n",
    "output_dir = r\"C:\\Users\\Stefania Alvarez\\Documents\\Universidad\\2025-1\\Tesis Final\\Modelos de prediccion\"\n",
    "\n",
    "xls = pd.ExcelFile(file_path)\n",
    "\n",
    "# Detectar hojas\n",
    "resumen_hojas = [hoja for hoja in xls.sheet_names if hoja.startswith(\"Resumen_\")]\n",
    "produccion_hojas = [hoja for hoja in xls.sheet_names if \"_\" in hoja and hoja.split(\"_\")[0].isdigit()]\n",
    "\n",
    "# Asociar hoja producción -> hoja resumen\n",
    "asociaciones = {}\n",
    "for hoja_prod in produccion_hojas:\n",
    "    num = hoja_prod.split(\"_\")[0]\n",
    "    for resumen in resumen_hojas:\n",
    "        if resumen.endswith(num):\n",
    "            asociaciones[hoja_prod] = resumen\n",
    "            break\n",
    "\n",
    "# Procesar cada par\n",
    "for hoja_prod, hoja_clima in asociaciones.items():\n",
    "    print(f\"\\n🔄 Procesando: {hoja_clima} con datos de {hoja_prod}\")\n",
    "\n",
    "    # Cargar hoja resumen\n",
    "    clima_df = pd.read_excel(xls, sheet_name=hoja_clima)\n",
    "    if \"Año\" not in clima_df.columns:\n",
    "        print(f\"❌ No se encontró la columna 'Año' en {hoja_clima}.\")\n",
    "        continue\n",
    "\n",
    "    # Cargar hoja de producción\n",
    "    produccion_df = pd.read_excel(xls, sheet_name=hoja_prod)\n",
    "\n",
    "    # Eliminar columna 'time' si existe\n",
    "    if produccion_df.columns[0].strip().lower() == \"time\":\n",
    "        produccion_df = produccion_df.set_index(produccion_df.columns[0])\n",
    "\n",
    "\n",
    "    # Limpiar espacios y convertir solo las filas cuyo índice es un número\n",
    "    produccion_df.index = produccion_df.index.astype(str).str.strip()\n",
    "    produccion_df_valid = produccion_df[produccion_df.index.str.isdigit()]\n",
    "    produccion_df_valid.index = produccion_df_valid.index.astype(int)\n",
    "\n",
    "    if produccion_df_valid.empty:\n",
    "        print(f\"⚠️ No se encontraron filas con años válidos en {hoja_prod}\")\n",
    "        continue\n",
    "\n",
    "    # Calcular promedio por año (por fila)\n",
    "    promedio_por_año = produccion_df_valid.mean(axis=1)\n",
    "\n",
    "    # Mapear al resumen\n",
    "    clima_df[\"Toneladas por Hectaria\"] = clima_df[\"Año\"].astype(int).map(promedio_por_año)\n",
    "\n",
    "\n",
    "    # Obtener promedio por año de la fila por estación (o variable)\n",
    "    # Aquí asumimos que cada columna es una estación y cada fila un año\n",
    "    promedio_por_año = produccion_df.mean(axis=1)\n",
    "\n",
    "    # Mapear al resumen usando clima_df[\"Año\"]\n",
    "    clima_df[\"Toneladas por Hectaria\"] = clima_df[\"Año\"].map(promedio_por_año)\n",
    "\n",
    "    # Guardar archivo\n",
    "    nombre_archivo = f\"{hoja_clima}_con_toneladas.xlsx\"\n",
    "    ruta_salida = os.path.join(output_dir, nombre_archivo)\n",
    "    clima_df.to_excel(ruta_salida, index=False)\n",
    "    print(f\"✅ Guardado: {ruta_salida}\")\n"
   ]
  }
 ],
 "metadata": {
  "kernelspec": {
   "display_name": "Python 3",
   "language": "python",
   "name": "python3"
  },
  "language_info": {
   "codemirror_mode": {
    "name": "ipython",
    "version": 3
   },
   "file_extension": ".py",
   "mimetype": "text/x-python",
   "name": "python",
   "nbconvert_exporter": "python",
   "pygments_lexer": "ipython3",
   "version": "3.11.9"
  }
 },
 "nbformat": 4,
 "nbformat_minor": 2
}
